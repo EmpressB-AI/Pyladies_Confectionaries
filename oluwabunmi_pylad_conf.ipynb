{
 "cells": [
  {
   "cell_type": "code",
   "execution_count": 1,
   "metadata": {},
   "outputs": [],
   "source": [
    "import pandas as pd"
   ]
  },
  {
   "cell_type": "code",
   "execution_count": 2,
   "metadata": {},
   "outputs": [
    {
     "name": "stdout",
     "output_type": "stream",
     "text": [
      "You are welcome to Pyladies Confectionaries! We hope to offer you the best\n",
      "\n",
      "Below is our food menu list,please check it out\n"
     ]
    },
    {
     "data": {
      "text/html": [
       "<div>\n",
       "<style scoped>\n",
       "    .dataframe tbody tr th:only-of-type {\n",
       "        vertical-align: middle;\n",
       "    }\n",
       "\n",
       "    .dataframe tbody tr th {\n",
       "        vertical-align: top;\n",
       "    }\n",
       "\n",
       "    .dataframe thead th {\n",
       "        text-align: right;\n",
       "    }\n",
       "</style>\n",
       "<table border=\"1\" class=\"dataframe\">\n",
       "  <thead>\n",
       "    <tr style=\"text-align: right;\">\n",
       "      <th></th>\n",
       "      <th>Food Menu</th>\n",
       "      <th>Prices(N)</th>\n",
       "      <th>Quantity</th>\n",
       "    </tr>\n",
       "  </thead>\n",
       "  <tbody>\n",
       "    <tr>\n",
       "      <th>0</th>\n",
       "      <td>Jollof Rice</td>\n",
       "      <td>300</td>\n",
       "      <td>100</td>\n",
       "    </tr>\n",
       "    <tr>\n",
       "      <th>1</th>\n",
       "      <td>Fried Rice</td>\n",
       "      <td>400</td>\n",
       "      <td>80</td>\n",
       "    </tr>\n",
       "    <tr>\n",
       "      <th>2</th>\n",
       "      <td>Beans</td>\n",
       "      <td>200</td>\n",
       "      <td>65</td>\n",
       "    </tr>\n",
       "    <tr>\n",
       "      <th>3</th>\n",
       "      <td>Spaghetti</td>\n",
       "      <td>350</td>\n",
       "      <td>70</td>\n",
       "    </tr>\n",
       "    <tr>\n",
       "      <th>4</th>\n",
       "      <td>White Rice</td>\n",
       "      <td>250</td>\n",
       "      <td>50</td>\n",
       "    </tr>\n",
       "  </tbody>\n",
       "</table>\n",
       "</div>"
      ],
      "text/plain": [
       "     Food Menu  Prices(N)  Quantity\n",
       "0  Jollof Rice        300       100\n",
       "1   Fried Rice        400        80\n",
       "2        Beans        200        65\n",
       "3    Spaghetti        350        70\n",
       "4   White Rice        250        50"
      ]
     },
     "execution_count": 2,
     "metadata": {},
     "output_type": "execute_result"
    }
   ],
   "source": [
    "print(\"You are welcome to Pyladies Confectionaries! We hope to offer you the best\\n\")\n",
    "print(\"Below is our food menu list,please check it out\")\n",
    "def inventory():\n",
    "    Data = [['Jollof Rice', 300, 100],['Fried Rice',400 ,80],\n",
    "            ['Beans',200 ,65],['Spaghetti', 350, 70],['White Rice',250, 50]]\n",
    "    df = pd.DataFrame(Data,columns=['Food Menu','Prices(N)','Quantity'])\n",
    "    return df\n",
    "IVT = inventory()\n",
    "IVT"
   ]
  },
  {
   "cell_type": "code",
   "execution_count": 5,
   "metadata": {},
   "outputs": [
    {
     "name": "stdout",
     "output_type": "stream",
     "text": [
      "Below is our food menu list\n",
      " \n",
      "      Food Menu  Prices(N)  Quantity\n",
      "0  Jollof Rice        300       100\n",
      "1   Fried Rice        400        80\n",
      "2        Beans        200        65\n",
      "3    Spaghetti        350        70\n",
      "4   White Rice        250        50\n"
     ]
    }
   ],
   "source": [
    "print(\"Below is our food menu list\\n\",\"\\n\",IVT)"
   ]
  },
  {
   "cell_type": "code",
   "execution_count": 3,
   "metadata": {},
   "outputs": [
    {
     "name": "stdout",
     "output_type": "stream",
     "text": [
      "We have newer and foreign delicacies on our menu now,please take a look at them\n"
     ]
    },
    {
     "data": {
      "text/html": [
       "<div>\n",
       "<style scoped>\n",
       "    .dataframe tbody tr th:only-of-type {\n",
       "        vertical-align: middle;\n",
       "    }\n",
       "\n",
       "    .dataframe tbody tr th {\n",
       "        vertical-align: top;\n",
       "    }\n",
       "\n",
       "    .dataframe thead th {\n",
       "        text-align: right;\n",
       "    }\n",
       "</style>\n",
       "<table border=\"1\" class=\"dataframe\">\n",
       "  <thead>\n",
       "    <tr style=\"text-align: right;\">\n",
       "      <th></th>\n",
       "      <th>Food Menu</th>\n",
       "      <th>Prices(N)</th>\n",
       "      <th>Quantity</th>\n",
       "    </tr>\n",
       "  </thead>\n",
       "  <tbody>\n",
       "    <tr>\n",
       "      <th>0</th>\n",
       "      <td>Jollof Rice</td>\n",
       "      <td>300</td>\n",
       "      <td>100</td>\n",
       "    </tr>\n",
       "    <tr>\n",
       "      <th>1</th>\n",
       "      <td>Fried Rice</td>\n",
       "      <td>400</td>\n",
       "      <td>80</td>\n",
       "    </tr>\n",
       "    <tr>\n",
       "      <th>2</th>\n",
       "      <td>Beans</td>\n",
       "      <td>200</td>\n",
       "      <td>65</td>\n",
       "    </tr>\n",
       "    <tr>\n",
       "      <th>3</th>\n",
       "      <td>Spaghetti</td>\n",
       "      <td>350</td>\n",
       "      <td>70</td>\n",
       "    </tr>\n",
       "    <tr>\n",
       "      <th>4</th>\n",
       "      <td>White Rice</td>\n",
       "      <td>250</td>\n",
       "      <td>50</td>\n",
       "    </tr>\n",
       "    <tr>\n",
       "      <th>5</th>\n",
       "      <td>Ramyeon</td>\n",
       "      <td>1500</td>\n",
       "      <td>40</td>\n",
       "    </tr>\n",
       "    <tr>\n",
       "      <th>6</th>\n",
       "      <td>Rice Balls</td>\n",
       "      <td>600</td>\n",
       "      <td>50</td>\n",
       "    </tr>\n",
       "    <tr>\n",
       "      <th>7</th>\n",
       "      <td>Chinese Beans</td>\n",
       "      <td>1050</td>\n",
       "      <td>30</td>\n",
       "    </tr>\n",
       "  </tbody>\n",
       "</table>\n",
       "</div>"
      ],
      "text/plain": [
       "       Food Menu  Prices(N)  Quantity\n",
       "0    Jollof Rice        300       100\n",
       "1     Fried Rice        400        80\n",
       "2          Beans        200        65\n",
       "3      Spaghetti        350        70\n",
       "4     White Rice        250        50\n",
       "5        Ramyeon       1500        40\n",
       "6     Rice Balls        600        50\n",
       "7  Chinese Beans       1050        30"
      ]
     },
     "execution_count": 3,
     "metadata": {},
     "output_type": "execute_result"
    }
   ],
   "source": [
    "print(\"We have newer and foreign delicacies on our menu now,please take a look at them\")\n",
    "def new_feature():\n",
    "    new_row = [['Ramyeon', 1500, 40],['Rice Balls', 600, 50],['Chinese Beans', 1050, 30]]\n",
    "    dff = pd.DataFrame(new_row,columns=['Food Menu','Prices(N)','Quantity'])\n",
    "    return dff\n",
    "new_df = IVT.append(new_feature(),ignore_index=True)\n",
    "new_df"
   ]
  },
  {
   "cell_type": "code",
   "execution_count": 4,
   "metadata": {},
   "outputs": [
    {
     "name": "stdout",
     "output_type": "stream",
     "text": [
      "These are the available foods we have: \n"
     ]
    },
    {
     "data": {
      "text/plain": [
       "0      Jollof Rice\n",
       "1       Fried Rice\n",
       "2            Beans\n",
       "3        Spaghetti\n",
       "4       White Rice\n",
       "5          Ramyeon\n",
       "6       Rice Balls\n",
       "7    Chinese Beans\n",
       "Name: Food Menu, dtype: object"
      ]
     },
     "execution_count": 4,
     "metadata": {},
     "output_type": "execute_result"
    }
   ],
   "source": [
    "print(\"These are the available foods we have: \")\n",
    "new_df['Food Menu']"
   ]
  },
  {
   "cell_type": "code",
   "execution_count": null,
   "metadata": {},
   "outputs": [],
   "source": [
    "def user_purchase(name,index,num_kg):\n",
    "    \"\"\"Computation of a user's purchase of food\"\"\"\n",
    "    return (new_df['Prices(N)'].iloc[int(index)]) * int(number_kg) \n",
    "\n",
    "name = input('Please enter your name:')\n",
    "index = input('kindly indicate the index of the food you would like to purchase:\\n')\n",
    "number_kg = input('Please fill in the quantity of food you would like to purchase')\n",
    "print(\"The item purchased is {}\".format(new_df['Food Menu'].iloc[int(index)]))\n",
    "print(\"The price of food purchased is: \")\n",
    "\n",
    "\n",
    "price = user_purchase(name,index,number_kg)        \n",
    "price"
   ]
  },
  {
   "cell_type": "markdown",
   "metadata": {},
   "source": [
    "### Receipt of Purchase"
   ]
  },
  {
   "cell_type": "code",
   "execution_count": 6,
   "metadata": {},
   "outputs": [
    {
     "name": "stdout",
     "output_type": "stream",
     "text": [
      "               Receipt of Purchase from Pyladies Confectionaries            \n",
      "Name of User: Oluwabunmi Adetunji\n",
      "Food Purchased: Rice Balls\n",
      "Number of kg purchased is 3\n",
      "Price of food purchased: 1800\n",
      "Date Purchased: 16/07/2020\n",
      "\n",
      "\n",
      "                                                               Name of Attendant: Ruth\n"
     ]
    }
   ],
   "source": [
    "print(\"               Receipt of Purchase from Pyladies Confectionaries            \")\n",
    "print(\"Name of User: {}\".format(name))\n",
    "print(\"Food Purchased: {}\".format(new_df['Food Menu'].iloc[int(index)]))\n",
    "print(\"Number of kg purchased is {}\".format(number_kg))\n",
    "print(\"Price of food purchased: {}\".format(price))\n",
    "print(\"Date Purchased: 16/07/2020\\n\")\n",
    "print(\"\\n                                                               Name of Attendant: Ruth\")"
   ]
  },
  {
   "cell_type": "code",
   "execution_count": 7,
   "metadata": {},
   "outputs": [
    {
     "name": "stdout",
     "output_type": "stream",
     "text": [
      "A 5% VAT has been deducted from your account because the item you purchased is above N500 hence you are charged with an amount of 1890.0\n"
     ]
    }
   ],
   "source": [
    "def deduct_VAT(price_of_item):\n",
    "    \"\"\"Deducting 5% VAT on all purchass above 500\"\"\"\n",
    "    if price > 500:\n",
    "        return price + price * 5 /100\n",
    "    else:\n",
    "        return price\n",
    "Amount_paid = deduct_VAT(price)\n",
    "print(\"A 5% VAT has been deducted from your account because the item you purchased is above N500 hence you are charged with an amount of {}\".format(Amount_paid))"
   ]
  },
  {
   "cell_type": "code",
   "execution_count": 8,
   "metadata": {},
   "outputs": [
    {
     "name": "stdout",
     "output_type": "stream",
     "text": [
      "Congratulations Oluwabunmi Adetunji!!You've won a discount of 20% on the item you just purchased\n",
      "You are only charged with a token of 1440.0\n"
     ]
    }
   ],
   "source": [
    "def give_discount(price_purchased):\n",
    "    \"\"\"Giving a discount of 20% on all purchases above 1000\"\"\"\n",
    "    if price > 1000:\n",
    "        return price - price * 20 /100\n",
    "    else:\n",
    "        return price\n",
    "Amount = give_discount(price)\n",
    "print(\"Congratulations {}!!You've won a discount of 20% on the item you just purchased\".format(name))\n",
    "print(\"You are only charged with a token of {}\".format(Amount))"
   ]
  },
  {
   "cell_type": "code",
   "execution_count": null,
   "metadata": {},
   "outputs": [],
   "source": []
  }
 ],
 "metadata": {
  "kernelspec": {
   "display_name": "Python 3",
   "language": "python",
   "name": "python3"
  },
  "language_info": {
   "codemirror_mode": {
    "name": "ipython",
    "version": 3
   },
   "file_extension": ".py",
   "mimetype": "text/x-python",
   "name": "python",
   "nbconvert_exporter": "python",
   "pygments_lexer": "ipython3",
   "version": "3.7.6"
  }
 },
 "nbformat": 4,
 "nbformat_minor": 4
}
